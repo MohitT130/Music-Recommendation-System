{
 "cells": [
  {
   "cell_type": "code",
   "execution_count": 1,
   "id": "d31c4f3d",
   "metadata": {},
   "outputs": [],
   "source": [
    "import numpy as np\n",
    "import pandas as pd"
   ]
  },
  {
   "cell_type": "code",
   "execution_count": 2,
   "id": "7915d604",
   "metadata": {},
   "outputs": [
    {
     "data": {
      "text/html": [
       "<div>\n",
       "<style scoped>\n",
       "    .dataframe tbody tr th:only-of-type {\n",
       "        vertical-align: middle;\n",
       "    }\n",
       "\n",
       "    .dataframe tbody tr th {\n",
       "        vertical-align: top;\n",
       "    }\n",
       "\n",
       "    .dataframe thead th {\n",
       "        text-align: right;\n",
       "    }\n",
       "</style>\n",
       "<table border=\"1\" class=\"dataframe\">\n",
       "  <thead>\n",
       "    <tr style=\"text-align: right;\">\n",
       "      <th></th>\n",
       "      <th>artist</th>\n",
       "      <th>song</th>\n",
       "      <th>link</th>\n",
       "      <th>text</th>\n",
       "    </tr>\n",
       "  </thead>\n",
       "  <tbody>\n",
       "    <tr>\n",
       "      <th>0</th>\n",
       "      <td>ABBA</td>\n",
       "      <td>Ahe's My Kind Of Girl</td>\n",
       "      <td>/a/abba/ahes+my+kind+of+girl_20598417.html</td>\n",
       "      <td>Look at her face, it's a wonderful face  \\nAnd...</td>\n",
       "    </tr>\n",
       "    <tr>\n",
       "      <th>1</th>\n",
       "      <td>ABBA</td>\n",
       "      <td>Andante, Andante</td>\n",
       "      <td>/a/abba/andante+andante_20002708.html</td>\n",
       "      <td>Take it easy with me, please  \\nTouch me gentl...</td>\n",
       "    </tr>\n",
       "    <tr>\n",
       "      <th>2</th>\n",
       "      <td>ABBA</td>\n",
       "      <td>As Good As New</td>\n",
       "      <td>/a/abba/as+good+as+new_20003033.html</td>\n",
       "      <td>I'll never know why I had to go  \\nWhy I had t...</td>\n",
       "    </tr>\n",
       "    <tr>\n",
       "      <th>3</th>\n",
       "      <td>ABBA</td>\n",
       "      <td>Bang</td>\n",
       "      <td>/a/abba/bang_20598415.html</td>\n",
       "      <td>Making somebody happy is a question of give an...</td>\n",
       "    </tr>\n",
       "    <tr>\n",
       "      <th>4</th>\n",
       "      <td>ABBA</td>\n",
       "      <td>Bang-A-Boomerang</td>\n",
       "      <td>/a/abba/bang+a+boomerang_20002668.html</td>\n",
       "      <td>Making somebody happy is a question of give an...</td>\n",
       "    </tr>\n",
       "  </tbody>\n",
       "</table>\n",
       "</div>"
      ],
      "text/plain": [
       "  artist                   song                                        link  \\\n",
       "0   ABBA  Ahe's My Kind Of Girl  /a/abba/ahes+my+kind+of+girl_20598417.html   \n",
       "1   ABBA       Andante, Andante       /a/abba/andante+andante_20002708.html   \n",
       "2   ABBA         As Good As New        /a/abba/as+good+as+new_20003033.html   \n",
       "3   ABBA                   Bang                  /a/abba/bang_20598415.html   \n",
       "4   ABBA       Bang-A-Boomerang      /a/abba/bang+a+boomerang_20002668.html   \n",
       "\n",
       "                                                text  \n",
       "0  Look at her face, it's a wonderful face  \\nAnd...  \n",
       "1  Take it easy with me, please  \\nTouch me gentl...  \n",
       "2  I'll never know why I had to go  \\nWhy I had t...  \n",
       "3  Making somebody happy is a question of give an...  \n",
       "4  Making somebody happy is a question of give an...  "
      ]
     },
     "execution_count": 2,
     "metadata": {},
     "output_type": "execute_result"
    }
   ],
   "source": [
    "df = pd.read_csv('songdata.csv')\n",
    "df.head()"
   ]
  },
  {
   "cell_type": "code",
   "execution_count": 3,
   "id": "c5578891",
   "metadata": {},
   "outputs": [
    {
     "data": {
      "text/plain": [
       "(57650, 4)"
      ]
     },
     "execution_count": 3,
     "metadata": {},
     "output_type": "execute_result"
    }
   ],
   "source": [
    "df.shape"
   ]
  },
  {
   "cell_type": "code",
   "execution_count": 4,
   "id": "ac398b9d",
   "metadata": {},
   "outputs": [
    {
     "data": {
      "text/html": [
       "<div>\n",
       "<style scoped>\n",
       "    .dataframe tbody tr th:only-of-type {\n",
       "        vertical-align: middle;\n",
       "    }\n",
       "\n",
       "    .dataframe tbody tr th {\n",
       "        vertical-align: top;\n",
       "    }\n",
       "\n",
       "    .dataframe thead th {\n",
       "        text-align: right;\n",
       "    }\n",
       "</style>\n",
       "<table border=\"1\" class=\"dataframe\">\n",
       "  <thead>\n",
       "    <tr style=\"text-align: right;\">\n",
       "      <th></th>\n",
       "      <th>artist</th>\n",
       "      <th>song</th>\n",
       "      <th>text</th>\n",
       "    </tr>\n",
       "  </thead>\n",
       "  <tbody>\n",
       "    <tr>\n",
       "      <th>8060</th>\n",
       "      <td>Human League</td>\n",
       "      <td>sky</td>\n",
       "      <td>And after such a blazing day  \\nAt last the br...</td>\n",
       "    </tr>\n",
       "    <tr>\n",
       "      <th>42163</th>\n",
       "      <td>Louis Armstrong</td>\n",
       "      <td>I Can't Believe That You're In Love With Me</td>\n",
       "      <td>Oh, your eyes of blue  \\nYour kisses too  \\nI ...</td>\n",
       "    </tr>\n",
       "    <tr>\n",
       "      <th>51672</th>\n",
       "      <td>Slayer</td>\n",
       "      <td>Disciple</td>\n",
       "      <td>Drones since the dawn of time  \\nCompelled to ...</td>\n",
       "    </tr>\n",
       "    <tr>\n",
       "      <th>13259</th>\n",
       "      <td>Moody Blues</td>\n",
       "      <td>It's Cold Outside Of Your Heart</td>\n",
       "      <td>The harder I try seems the further I fall  \\nT...</td>\n",
       "    </tr>\n",
       "    <tr>\n",
       "      <th>696</th>\n",
       "      <td>America</td>\n",
       "      <td>The Border</td>\n",
       "      <td>You must be lost in a faraway land  \\nI search...</td>\n",
       "    </tr>\n",
       "    <tr>\n",
       "      <th>...</th>\n",
       "      <td>...</td>\n",
       "      <td>...</td>\n",
       "      <td>...</td>\n",
       "    </tr>\n",
       "    <tr>\n",
       "      <th>42618</th>\n",
       "      <td>Manowar</td>\n",
       "      <td>Wheels Of Fire</td>\n",
       "      <td>Since the dawn of time  \\nI've rolled across t...</td>\n",
       "    </tr>\n",
       "    <tr>\n",
       "      <th>31182</th>\n",
       "      <td>Elton John</td>\n",
       "      <td>Hey Ahab</td>\n",
       "      <td>It's a constant struggle getting up that hill ...</td>\n",
       "    </tr>\n",
       "    <tr>\n",
       "      <th>10417</th>\n",
       "      <td>Kenny Loggins</td>\n",
       "      <td>The One That Got Away</td>\n",
       "      <td>You were the quiet one  \\nAfraid to sleep alon...</td>\n",
       "    </tr>\n",
       "    <tr>\n",
       "      <th>375</th>\n",
       "      <td>Alabama</td>\n",
       "      <td>Dixie Fire</td>\n",
       "      <td>I'm not a stranger to passion,  \\nI've seen a ...</td>\n",
       "    </tr>\n",
       "    <tr>\n",
       "      <th>54450</th>\n",
       "      <td>Unkle</td>\n",
       "      <td>Lawless</td>\n",
       "      <td>In the dead of night  \\nI become someone else ...</td>\n",
       "    </tr>\n",
       "  </tbody>\n",
       "</table>\n",
       "<p>5000 rows × 3 columns</p>\n",
       "</div>"
      ],
      "text/plain": [
       "                artist                                         song  \\\n",
       "8060      Human League                                          sky   \n",
       "42163  Louis Armstrong  I Can't Believe That You're In Love With Me   \n",
       "51672           Slayer                                     Disciple   \n",
       "13259      Moody Blues              It's Cold Outside Of Your Heart   \n",
       "696            America                                   The Border   \n",
       "...                ...                                          ...   \n",
       "42618          Manowar                               Wheels Of Fire   \n",
       "31182       Elton John                                     Hey Ahab   \n",
       "10417    Kenny Loggins                        The One That Got Away   \n",
       "375            Alabama                                   Dixie Fire   \n",
       "54450            Unkle                                      Lawless   \n",
       "\n",
       "                                                    text  \n",
       "8060   And after such a blazing day  \\nAt last the br...  \n",
       "42163  Oh, your eyes of blue  \\nYour kisses too  \\nI ...  \n",
       "51672  Drones since the dawn of time  \\nCompelled to ...  \n",
       "13259  The harder I try seems the further I fall  \\nT...  \n",
       "696    You must be lost in a faraway land  \\nI search...  \n",
       "...                                                  ...  \n",
       "42618  Since the dawn of time  \\nI've rolled across t...  \n",
       "31182  It's a constant struggle getting up that hill ...  \n",
       "10417  You were the quiet one  \\nAfraid to sleep alon...  \n",
       "375    I'm not a stranger to passion,  \\nI've seen a ...  \n",
       "54450  In the dead of night  \\nI become someone else ...  \n",
       "\n",
       "[5000 rows x 3 columns]"
      ]
     },
     "execution_count": 4,
     "metadata": {},
     "output_type": "execute_result"
    }
   ],
   "source": [
    "df.sample(n=5000).drop('link',axis=1)"
   ]
  },
  {
   "cell_type": "code",
   "execution_count": 5,
   "id": "b754c26d",
   "metadata": {},
   "outputs": [],
   "source": [
    "# the indexing is not started from 0 so we will write this as "
   ]
  },
  {
   "cell_type": "code",
   "execution_count": 6,
   "id": "592061df",
   "metadata": {},
   "outputs": [
    {
     "data": {
      "text/html": [
       "<div>\n",
       "<style scoped>\n",
       "    .dataframe tbody tr th:only-of-type {\n",
       "        vertical-align: middle;\n",
       "    }\n",
       "\n",
       "    .dataframe tbody tr th {\n",
       "        vertical-align: top;\n",
       "    }\n",
       "\n",
       "    .dataframe thead th {\n",
       "        text-align: right;\n",
       "    }\n",
       "</style>\n",
       "<table border=\"1\" class=\"dataframe\">\n",
       "  <thead>\n",
       "    <tr style=\"text-align: right;\">\n",
       "      <th></th>\n",
       "      <th>artist</th>\n",
       "      <th>song</th>\n",
       "      <th>text</th>\n",
       "    </tr>\n",
       "  </thead>\n",
       "  <tbody>\n",
       "    <tr>\n",
       "      <th>0</th>\n",
       "      <td>Van Morrison</td>\n",
       "      <td>Hard Nose The Highway</td>\n",
       "      <td>Hey kids dig the first takes  \\nAin't that som...</td>\n",
       "    </tr>\n",
       "    <tr>\n",
       "      <th>1</th>\n",
       "      <td>Rolling Stones</td>\n",
       "      <td>Down The Road Apiece</td>\n",
       "      <td>Now if you want to hear some boogie like I'm g...</td>\n",
       "    </tr>\n",
       "    <tr>\n",
       "      <th>2</th>\n",
       "      <td>Veruca Salt</td>\n",
       "      <td>Benjamin</td>\n",
       "      <td>\\n  \\n  \\n  \\n  \\nTake me away  \\n  \\nI know...</td>\n",
       "    </tr>\n",
       "    <tr>\n",
       "      <th>3</th>\n",
       "      <td>Nick Drake</td>\n",
       "      <td>Leaving Me Behind</td>\n",
       "      <td>The tramp moves on to the end of the street  \\...</td>\n",
       "    </tr>\n",
       "    <tr>\n",
       "      <th>4</th>\n",
       "      <td>Britney Spears</td>\n",
       "      <td>Do Something</td>\n",
       "      <td>Do you feel this?  \\nI'm gonna feel this  \\nAr...</td>\n",
       "    </tr>\n",
       "    <tr>\n",
       "      <th>...</th>\n",
       "      <td>...</td>\n",
       "      <td>...</td>\n",
       "      <td>...</td>\n",
       "    </tr>\n",
       "    <tr>\n",
       "      <th>4995</th>\n",
       "      <td>Pet Shop Boys</td>\n",
       "      <td>I Want To Wake Up</td>\n",
       "      <td>I heard what you said, and I can tell you it's...</td>\n",
       "    </tr>\n",
       "    <tr>\n",
       "      <th>4996</th>\n",
       "      <td>Ultravox</td>\n",
       "      <td>I Want To Be A Machine</td>\n",
       "      <td>I found the bones of all your ghosts  \\nLocked...</td>\n",
       "    </tr>\n",
       "    <tr>\n",
       "      <th>4997</th>\n",
       "      <td>Dan Fogelberg</td>\n",
       "      <td>The Way It Must Be</td>\n",
       "      <td>Baby, how could I have been so vain  \\nTo make...</td>\n",
       "    </tr>\n",
       "    <tr>\n",
       "      <th>4998</th>\n",
       "      <td>Puff Daddy</td>\n",
       "      <td>Thank You</td>\n",
       "      <td>Verse 1:  \\nYou've always been right there to ...</td>\n",
       "    </tr>\n",
       "    <tr>\n",
       "      <th>4999</th>\n",
       "      <td>Grateful Dead</td>\n",
       "      <td>Alligator</td>\n",
       "      <td>Sleepy alligator in the noonday sun  \\nSleepin...</td>\n",
       "    </tr>\n",
       "  </tbody>\n",
       "</table>\n",
       "<p>5000 rows × 3 columns</p>\n",
       "</div>"
      ],
      "text/plain": [
       "              artist                    song  \\\n",
       "0       Van Morrison   Hard Nose The Highway   \n",
       "1     Rolling Stones    Down The Road Apiece   \n",
       "2        Veruca Salt                Benjamin   \n",
       "3         Nick Drake       Leaving Me Behind   \n",
       "4     Britney Spears            Do Something   \n",
       "...              ...                     ...   \n",
       "4995   Pet Shop Boys       I Want To Wake Up   \n",
       "4996        Ultravox  I Want To Be A Machine   \n",
       "4997   Dan Fogelberg      The Way It Must Be   \n",
       "4998      Puff Daddy               Thank You   \n",
       "4999   Grateful Dead               Alligator   \n",
       "\n",
       "                                                   text  \n",
       "0     Hey kids dig the first takes  \\nAin't that som...  \n",
       "1     Now if you want to hear some boogie like I'm g...  \n",
       "2       \\n  \\n  \\n  \\n  \\nTake me away  \\n  \\nI know...  \n",
       "3     The tramp moves on to the end of the street  \\...  \n",
       "4     Do you feel this?  \\nI'm gonna feel this  \\nAr...  \n",
       "...                                                 ...  \n",
       "4995  I heard what you said, and I can tell you it's...  \n",
       "4996  I found the bones of all your ghosts  \\nLocked...  \n",
       "4997  Baby, how could I have been so vain  \\nTo make...  \n",
       "4998  Verse 1:  \\nYou've always been right there to ...  \n",
       "4999  Sleepy alligator in the noonday sun  \\nSleepin...  \n",
       "\n",
       "[5000 rows x 3 columns]"
      ]
     },
     "execution_count": 6,
     "metadata": {},
     "output_type": "execute_result"
    }
   ],
   "source": [
    "df.sample(n=5000).drop('link',axis=1).reset_index(drop=True)"
   ]
  },
  {
   "cell_type": "code",
   "execution_count": 7,
   "id": "72c4a37b",
   "metadata": {},
   "outputs": [],
   "source": [
    "df = df.sample(n=5000).drop('link',axis=1).reset_index(drop=True)"
   ]
  },
  {
   "cell_type": "code",
   "execution_count": 8,
   "id": "00553823",
   "metadata": {},
   "outputs": [],
   "source": [
    "# hum text ke column ko clean karke unke ek order mein vecors bana rahe honge"
   ]
  },
  {
   "cell_type": "code",
   "execution_count": 9,
   "id": "d1cbabd2",
   "metadata": {},
   "outputs": [
    {
     "data": {
      "text/plain": [
       "0             Bee Gees\n",
       "1              Unearth\n",
       "2        Leonard Cohen\n",
       "3            Offspring\n",
       "4        Kenny Chesney\n",
       "             ...      \n",
       "4995        Quiet Riot\n",
       "4996      Eric Clapton\n",
       "4997             Bread\n",
       "4998    Iron Butterfly\n",
       "4999        Chaka Khan\n",
       "Name: artist, Length: 5000, dtype: object"
      ]
     },
     "execution_count": 9,
     "metadata": {},
     "output_type": "execute_result"
    }
   ],
   "source": [
    "# We are going to perform cleaning\n",
    "df['artist']"
   ]
  },
  {
   "cell_type": "code",
   "execution_count": 10,
   "id": "e1fc5ffa",
   "metadata": {},
   "outputs": [
    {
     "data": {
      "text/plain": [
       "0              Jingle Jangle\n",
       "1                 The Fallen\n",
       "2       I Tried To Leave You\n",
       "3         Staring At The Sun\n",
       "4                   A Chance\n",
       "                ...         \n",
       "4995    Slick Black Cadillac\n",
       "4996          Lost And Found\n",
       "4997                    I Am\n",
       "4998           You Can't Win\n",
       "4999     Lullaby Of Birdland\n",
       "Name: song, Length: 5000, dtype: object"
      ]
     },
     "execution_count": 10,
     "metadata": {},
     "output_type": "execute_result"
    }
   ],
   "source": [
    "df['song']"
   ]
  },
  {
   "cell_type": "code",
   "execution_count": 11,
   "id": "bdb4be78",
   "metadata": {},
   "outputs": [
    {
     "data": {
      "text/plain": [
       "'Jingle Jangle'"
      ]
     },
     "execution_count": 11,
     "metadata": {},
     "output_type": "execute_result"
    }
   ],
   "source": [
    "df['song'][0]  # 1st song ko dikhaega ye sirf"
   ]
  },
  {
   "cell_type": "code",
   "execution_count": 12,
   "id": "d896da31",
   "metadata": {},
   "outputs": [
    {
     "data": {
      "text/plain": [
       "0       Jingle jangle, my love wears silvery bangles  ...\n",
       "1       Broken, the seems burst in a rush  \\nA catacly...\n",
       "2       I tried to leave you, I don't deny  \\nI closed...\n",
       "3       Maybe life is like a ride on a freeway  \\nDodg...\n",
       "4       Girl, don't you know it's all I can do  \\nTo k...\n",
       "                              ...                        \n",
       "4995    Ooooo, just a big black set of wheels  \\nIs wh...\n",
       "4996    Falling in the deep end  \\nStop messin' around...\n",
       "4997    I'm a fake  \\nI can't ever write my own lyrics...\n",
       "4998    What the man says is always right  \\nHe'll cuf...\n",
       "4999    Ooh, Lullaby of Birdland  \\nThat is what I alw...\n",
       "Name: text, Length: 5000, dtype: object"
      ]
     },
     "execution_count": 12,
     "metadata": {},
     "output_type": "execute_result"
    }
   ],
   "source": [
    "df['text']"
   ]
  },
  {
   "cell_type": "code",
   "execution_count": 13,
   "id": "d2b581f7",
   "metadata": {},
   "outputs": [
    {
     "data": {
      "text/plain": [
       "\"Jingle jangle, my love wears silvery bangles  \\nShe likes to wander and that's why I'm under  \\nThe spell of her jingle jangle  \\n  \\nWe used to cry on each others shoulder  \\nNow that I'm older, she wanders ahead  \\nNow that she's found love, I still hear the sound of  \\nSilvery bangles, remain in my head  \\n  \\nJingle jangle, my love wears silvery bangles  \\nShe used to wander and that's why I'm under  \\nThe spell of her jingle jangle\\n\\n\""
      ]
     },
     "execution_count": 13,
     "metadata": {},
     "output_type": "execute_result"
    }
   ],
   "source": [
    "df['text'][0]"
   ]
  },
  {
   "cell_type": "code",
   "execution_count": 14,
   "id": "c2ce4f67",
   "metadata": {},
   "outputs": [
    {
     "data": {
      "text/plain": [
       "0       jingle jangle, my love wears silvery bangles  ...\n",
       "1       broken, the seems burst in a rush  \\na catacly...\n",
       "2       i tried to leave you, i don't deny  \\ni closed...\n",
       "3       maybe life is like a ride on a freeway  \\ndodg...\n",
       "4       girl, don't you know it's all i can do  \\nto k...\n",
       "                              ...                        \n",
       "4995    ooooo, just a big black set of wheels  \\nis wh...\n",
       "4996    falling in the deep end  \\nstop messin' around...\n",
       "4997    i'm a fake  \\ni can't ever write my own lyrics...\n",
       "4998    what the man says is always right  \\nhe'll cuf...\n",
       "4999    ooh, lullaby of birdland  \\nthat is what i alw...\n",
       "Name: text, Length: 5000, dtype: object"
      ]
     },
     "execution_count": 14,
     "metadata": {},
     "output_type": "execute_result"
    }
   ],
   "source": [
    "# now we are going to start cleaning of texts\n",
    "df['text'].str.lower().replace(r'[a-zA-Z0-9]','')   # yahan hum lower later mein convert kar de rahe agar text mein any later is present in capital usko\n",
    "#ye tarika hota hai replace karane kaaa jahan except a-z, A-Z and 0-9 , we are removing each and every data from text\n",
    "# humne comma dekar '' isliye chora hai kyunki saare special characters kaa replacemeny ho raha with ''\n"
   ]
  },
  {
   "cell_type": "code",
   "execution_count": 15,
   "id": "f8bca021",
   "metadata": {},
   "outputs": [
    {
     "data": {
      "text/plain": [
       "0       jingle jangle, my love wears silvery bangles  ...\n",
       "1       broken, the seems burst in a rush  \\na catacly...\n",
       "2       i tried to leave you, i don't deny  \\ni closed...\n",
       "3       maybe life is like a ride on a freeway  \\ndodg...\n",
       "4       girl, don't you know it's all i can do  \\nto k...\n",
       "                              ...                        \n",
       "4995    ooooo, just a big black set of wheels  \\nis wh...\n",
       "4996    falling in the deep end  \\nstop messin' around...\n",
       "4997    i'm a fake  \\ni can't ever write my own lyrics...\n",
       "4998    what the man says is always right  \\nhe'll cuf...\n",
       "4999    ooh, lullaby of birdland  \\nthat is what i alw...\n",
       "Name: text, Length: 5000, dtype: object"
      ]
     },
     "execution_count": 15,
     "metadata": {},
     "output_type": "execute_result"
    }
   ],
   "source": [
    "# above replcement ko ek aur tarike se likha jaa sakta hai\n",
    "df['text'].str.lower().replace(r'[^\\w\\s]','')"
   ]
  },
  {
   "cell_type": "code",
   "execution_count": 16,
   "id": "6ff153bc",
   "metadata": {},
   "outputs": [],
   "source": [
    "# now hum \\n par bhi kaam karne jaa rahe hain\n",
    "df['text'] = df['text'].str.lower().replace(r'[^\\w\\s]','').replace(r'\\n', ' ',regex=True)\n",
    "#REPLACE KE ANDER JO R HAI THAT IS SHOWING READ PART AND AFTER READING WE ARE REPLACING \\N WITH ' '\n",
    "#SEARCH FOR REGEX\n",
    "# note :- never forget to update, and update karne kaa tarika hai as given, df[''] = df[''].(any operation which we have perform)"
   ]
  },
  {
   "cell_type": "code",
   "execution_count": 17,
   "id": "a440e9e1",
   "metadata": {},
   "outputs": [
    {
     "data": {
      "text/plain": [
       "\"jingle jangle, my love wears silvery bangles   she likes to wander and that's why i'm under   the spell of her jingle jangle      we used to cry on each others shoulder   now that i'm older, she wanders ahead   now that she's found love, i still hear the sound of   silvery bangles, remain in my head      jingle jangle, my love wears silvery bangles   she used to wander and that's why i'm under   the spell of her jingle jangle  \""
      ]
     },
     "execution_count": 17,
     "metadata": {},
     "output_type": "execute_result"
    }
   ],
   "source": [
    "df['text'][0]"
   ]
  },
  {
   "cell_type": "code",
   "execution_count": 18,
   "id": "e7df6483",
   "metadata": {},
   "outputs": [],
   "source": [
    "# now we will do tokanization \n",
    "# ye kya hota hai?\n",
    "# eg:- we have a statement:- \"my name is mohit tripathi\"\n",
    "# after doing this the statement will look like:- \"my, name, is, mohit, tripathi\"\n",
    "\n",
    "#  &\n",
    "\n",
    "# we will perform \"steming\" , ismein kya hota hai?\n",
    "# for example we have various words:- (love, loving, loved, lovely)===> so we will show represent all these words with only singe word and that is \"love\"\n"
   ]
  },
  {
   "cell_type": "code",
   "execution_count": 19,
   "id": "6ea6dfb3",
   "metadata": {},
   "outputs": [],
   "source": [
    "import nltk  \n",
    "# The Natural Language Toolkit (NLTK) is a Python programming environment for creating applications for statistical natural language processing (NLP). It includes language processing libraries for tokenization, parsing, classification, stemming, labeling, and semantic reasoning.\n",
    "from nltk.stem.porter import PorterStemmer   # ye kisi bhi word ko uske apne bas form mein laa deta hai\n",
    "from nltk.stem import PorterStemmer\n",
    "from nltk.tokenize import word_tokenize\n",
    "\n",
    "ps = PorterStemmer()   # created an object, ye base form mein laayega kisi bhi fomat mein maujud word ko\n",
    "# example:- we have various words:- (love, loving, loved, lovely)===> so we will show represent all these words with only singe word and that is \"love\"\n",
    "\n",
    "# now tokanization ko perform karenge\n",
    "\n",
    "stemming = []\n",
    "def tokenization(txt):       # we created an function jahan pe koyi saa bhi text aayega to uspe ye work karega\n",
    "    tokens = nltk.word_tokenize(txt)\n",
    "    for w in tokens:      # w for words \n",
    "        stemming.append(ps.stem(w))     #empty list stemming mein ab sab append ho jaega\n",
    "        \n",
    "    return \" \".join(stemming)   # list ko string mein covert karke returning"
   ]
  },
  {
   "cell_type": "code",
   "execution_count": 20,
   "id": "a53c6d99",
   "metadata": {},
   "outputs": [
    {
     "name": "stderr",
     "output_type": "stream",
     "text": [
      "[nltk_data] Downloading package punkt to C:\\Users\\Mohit\n",
      "[nltk_data]     Tripathi\\AppData\\Roaming\\nltk_data...\n",
      "[nltk_data]   Package punkt is already up-to-date!\n"
     ]
    },
    {
     "data": {
      "text/plain": [
       "True"
      ]
     },
     "execution_count": 20,
     "metadata": {},
     "output_type": "execute_result"
    }
   ],
   "source": [
    "nltk.download('punkt')"
   ]
  },
  {
   "cell_type": "code",
   "execution_count": 21,
   "id": "d194df61",
   "metadata": {},
   "outputs": [
    {
     "data": {
      "text/plain": [
       "'thi is model for music recommend love love'"
      ]
     },
     "execution_count": 21,
     "metadata": {},
     "output_type": "execute_result"
    }
   ],
   "source": [
    "# function testing \n",
    "tokenization('This is model for Music Recommendations loving loved')"
   ]
  },
  {
   "cell_type": "code",
   "execution_count": 22,
   "id": "f21558c9",
   "metadata": {},
   "outputs": [],
   "source": [
    "# Ab function ko call maaarenge for our column\n",
    "df['text'] = df['text'].apply(lambda x: tokenization(x))"
   ]
  },
  {
   "cell_type": "code",
   "execution_count": 23,
   "id": "0793d62e",
   "metadata": {},
   "outputs": [
    {
     "data": {
      "text/plain": [
       "0       thi is model for music recommend love love jin...\n",
       "1       thi is model for music recommend love love jin...\n",
       "2       thi is model for music recommend love love jin...\n",
       "3       thi is model for music recommend love love jin...\n",
       "4       thi is model for music recommend love love jin...\n",
       "                              ...                        \n",
       "4995    thi is model for music recommend love love jin...\n",
       "4996    thi is model for music recommend love love jin...\n",
       "4997    thi is model for music recommend love love jin...\n",
       "4998    thi is model for music recommend love love jin...\n",
       "4999    thi is model for music recommend love love jin...\n",
       "Name: text, Length: 5000, dtype: object"
      ]
     },
     "execution_count": 23,
     "metadata": {},
     "output_type": "execute_result"
    }
   ],
   "source": [
    "df['text']"
   ]
  },
  {
   "cell_type": "code",
   "execution_count": 24,
   "id": "9517cd89",
   "metadata": {},
   "outputs": [],
   "source": [
    "from sklearn.feature_extraction.text import TfidfVectorizer\n",
    "from sklearn.metrics.pairwise import cosine_similarity"
   ]
  },
  {
   "cell_type": "code",
   "execution_count": null,
   "id": "ad240b67",
   "metadata": {},
   "outputs": [],
   "source": [
    "tfid = TfidfVectorizer(stop_words='english')  #This is , to , for, aise words ko bhi ye hata dega\n",
    "matrix = tfid.fit_transform(df['text'])"
   ]
  },
  {
   "cell_type": "code",
   "execution_count": null,
   "id": "ac981099",
   "metadata": {},
   "outputs": [],
   "source": [
    "matrix"
   ]
  },
  {
   "cell_type": "code",
   "execution_count": null,
   "id": "7561a767",
   "metadata": {},
   "outputs": [],
   "source": [
    "matrix.shape"
   ]
  },
  {
   "cell_type": "code",
   "execution_count": null,
   "id": "a46549b0",
   "metadata": {},
   "outputs": [],
   "source": []
  },
  {
   "cell_type": "code",
   "execution_count": null,
   "id": "3caf4343",
   "metadata": {},
   "outputs": [],
   "source": []
  }
 ],
 "metadata": {
  "kernelspec": {
   "display_name": "Python 3 (ipykernel)",
   "language": "python",
   "name": "python3"
  },
  "language_info": {
   "codemirror_mode": {
    "name": "ipython",
    "version": 3
   },
   "file_extension": ".py",
   "mimetype": "text/x-python",
   "name": "python",
   "nbconvert_exporter": "python",
   "pygments_lexer": "ipython3",
   "version": "3.9.7"
  }
 },
 "nbformat": 4,
 "nbformat_minor": 5
}
